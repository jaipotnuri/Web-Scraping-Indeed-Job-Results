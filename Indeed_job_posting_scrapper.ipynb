{
  "nbformat": 4,
  "nbformat_minor": 0,
  "metadata": {
    "colab": {
      "provenance": [],
      "collapsed_sections": []
    },
    "kernelspec": {
      "name": "python3",
      "display_name": "Python 3"
    },
    "language_info": {
      "name": "python"
    }
  },
  "cells": [
    {
      "cell_type": "code",
      "source": [
        "import csv\n",
        "from datetime import datetime\n",
        "import requests\n",
        "from bs4 import BeautifulSoup"
      ],
      "metadata": {
        "id": "LLtifHE26OhE"
      },
      "execution_count": null,
      "outputs": []
    },
    {
      "cell_type": "markdown",
      "source": [
        "# Setup the query and url"
      ],
      "metadata": {
        "id": "0SUJrvGI6egO"
      }
    },
    {
      "cell_type": "code",
      "source": [
        "def get_url(position, location):\n",
        "    \"\"\"Generate url from position and location\"\"\"\n",
        "    template = 'https://www.indeed.com/jobs?q={}&l={}'\n",
        "    position = position.replace(' ', '+')\n",
        "    location = location.replace(' ', '+')\n",
        "    url = template.format(position, location)\n",
        "    return url"
      ],
      "metadata": {
        "id": "qYI6XpCv6iNw"
      },
      "execution_count": null,
      "outputs": []
    },
    {
      "cell_type": "code",
      "source": [
        "url = get_url('software developer', 'san jose ca')\n",
        "print(url)"
      ],
      "metadata": {
        "colab": {
          "base_uri": "https://localhost:8080/"
        },
        "id": "jBn964436kNX",
        "outputId": "fb8516fb-5fef-4bf5-8cd2-6fff7fccb395"
      },
      "execution_count": null,
      "outputs": [
        {
          "output_type": "stream",
          "name": "stdout",
          "text": [
            "https://www.indeed.com/jobs?q=software+developer&l=san+jose+ca\n"
          ]
        }
      ]
    },
    {
      "cell_type": "markdown",
      "source": [
        "# Extract the html data"
      ],
      "metadata": {
        "id": "NJYSFNal6y5R"
      }
    },
    {
      "cell_type": "code",
      "source": [
        "response = requests.get(url)"
      ],
      "metadata": {
        "id": "QEyfp2uV6mdX"
      },
      "execution_count": null,
      "outputs": []
    },
    {
      "cell_type": "code",
      "source": [
        "response"
      ],
      "metadata": {
        "colab": {
          "base_uri": "https://localhost:8080/"
        },
        "id": "woq7mzEz7W-D",
        "outputId": "a7fe2251-af51-433b-b468-f3b0c92b7ffe"
      },
      "execution_count": null,
      "outputs": [
        {
          "output_type": "execute_result",
          "data": {
            "text/plain": [
              "<Response [200]>"
            ]
          },
          "metadata": {},
          "execution_count": 246
        }
      ]
    },
    {
      "cell_type": "code",
      "source": [
        "soup = BeautifulSoup(response.text, 'html.parser')"
      ],
      "metadata": {
        "id": "tJ1qwqXs64SN"
      },
      "execution_count": null,
      "outputs": []
    },
    {
      "cell_type": "code",
      "source": [
        "cards = soup.find_all('div', attrs={'class':'job_seen_beacon'})"
      ],
      "metadata": {
        "id": "DWphdCoq67-k"
      },
      "execution_count": null,
      "outputs": []
    },
    {
      "cell_type": "code",
      "source": [
        "len(cards)"
      ],
      "metadata": {
        "colab": {
          "base_uri": "https://localhost:8080/"
        },
        "id": "4u-2nTrB9K2i",
        "outputId": "a18059ce-e1cf-4fee-c857-8e4f44fa4ae2"
      },
      "execution_count": null,
      "outputs": [
        {
          "output_type": "execute_result",
          "data": {
            "text/plain": [
              "15"
            ]
          },
          "metadata": {},
          "execution_count": 249
        }
      ]
    },
    {
      "cell_type": "markdown",
      "source": [
        "# Prototype the model with a single record"
      ],
      "metadata": {
        "id": "L6TMMALk7Bgw"
      }
    },
    {
      "cell_type": "code",
      "source": [
        "card = cards[1]"
      ],
      "metadata": {
        "id": "yFb9WvTi7EXD"
      },
      "execution_count": null,
      "outputs": []
    },
    {
      "cell_type": "code",
      "source": [
        "print(card)"
      ],
      "metadata": {
        "colab": {
          "base_uri": "https://localhost:8080/"
        },
        "id": "z7NwDltvfKwh",
        "outputId": "28b797ea-453b-463b-a49d-c92d10bd9354"
      },
      "execution_count": null,
      "outputs": [
        {
          "output_type": "stream",
          "name": "stdout",
          "text": [
            "<div class=\"job_seen_beacon\"><table cellpadding=\"0\" cellspacing=\"0\" class=\"jobCard_mainContent big6_visualChanges\" role=\"presentation\"><tbody><tr><td class=\"resultContent\"><div class=\"heading4 color-text-primary singleLineTitle tapItem-gutter\"><h2 class=\"jobTitle jobTitle-color-purple\"><a aria-label=\"full details of Visual Basic programmers\" class=\"jcs-JobTitle\" data-hide-spinner=\"true\" data-hiring-event=\"false\" data-jk=\"38e008dde8e71c32\" data-mobtk=\"1g29d81bcs7lg800\" href=\"/rc/clk?jk=38e008dde8e71c32&amp;fccid=b9e65480db9411c1&amp;vjs=3\" id=\"job_38e008dde8e71c32\" role=\"button\" target=\"_blank\"><span title=\"Visual Basic programmers\">Visual Basic programmers</span></a></h2></div><div class=\"heading6 company_location tapItem-gutter companyInfo\"><span class=\"companyName\">Tempo-TC</span><div class=\"companyLocation\">Silicon Valley, CA</div></div><div class=\"heading6 tapItem-gutter metadataContainer noJEMChips salaryOnly\"><div class=\"metadata estimated-salary-container\"><span class=\"estimated-salary\"><svg aria-hidden=\"true\" aria-label=\"Estimated $76.1K to $96.3K a year\" fill=\"none\" role=\"presentation\" viewbox=\"0 0 16 13\" xmlns=\"http://www.w3.org/2000/svg\"><defs></defs><path clip-rule=\"evenodd\" d=\"M2.45168 6.10292c-.30177-.125-.62509-.18964-.95168-.1903V4.08678c.32693-.00053.6506-.06518.95267-.1903.30331-.12564.57891-.30979.81105-.54193.23215-.23215.4163-.50775.54194-.81106.12524-.30237.18989-.62638.19029-.95365H9.0902c0 .3283.06466.65339.1903.9567.12564.30331.30978.57891.54193.81106.23217.23215.50777.41629.81107.54193.3032.12558.6281.19024.9562.1903v1.83556c-.3242.00155-.6451.06616-.9448.19028-.3033.12563-.5789.30978-.81102.54193-.23215.23214-.4163.50774-.54193.81106-.12332.2977-.18789.61638-.19024.93849H3.99496c-.00071-.32645-.06535-.64961-.19029-.95124-.12564-.30332-.30979-.57891-.54193-.81106-.23215-.23215-.50775-.4163-.81106-.54193zM0 .589843C0 .313701.223858.0898438.5.0898438h12.0897c.2762 0 .5.2238572.5.5000002V9.40715c0 .27614-.2238.5-.5.5H.5c-.276143 0-.5-.22386-.5-.5V.589843zM6.54427 6.99849c1.10457 0 2-.89543 2-2s-.89543-2-2-2-2 .89543-2 2 .89543 2 2 2zm8.05523-2.69917v7.10958H2.75977c-.27615 0-.5.2238-.5.5v.5c0 .2761.22385.5.5.5H15.422c.4419 0 .6775-.2211.6775-.6629V4.29932c0-.27615-.2239-.5-.5-.5h-.5c-.2761 0-.5.22385-.5.5z\" fill=\"#595959\" fill-rule=\"evenodd\"></path></svg><span>Estimated $76.1K - $96.3K a year</span><button aria-haspopup=\"true\" aria-label=\"About Indeed's estimated salaries\" class=\"estimated-salary-legal-disclaimer-button\" type=\"button\"><img alt=\"\" aria-hidden=\"true\" class=\"estimated-salary-legal-disclaimer-icon\" src=\"https://c03.s3.indeed.com/mosaic-provider-jobcards/dist/images/src/components/JobMetaData/EstimatedSalary/QuestionCircle-901519.svg\"/></button></span></div></div><div class=\"heading6 error-text tapItem-gutter\"></div></td></tr></tbody></table><table class=\"jobCardShelfContainer big6_visualChanges\" role=\"presentation\"><tbody><tr class=\"jobCardShelf\"></tr><tr class=\"underShelfFooter\"><td><div class=\"heading6 tapItem-gutter result-footer\"><div class=\"job-snippet\"><ul style=\"list-style-type:circle;margin-top: 0px;margin-bottom: 0px;padding-left:20px;\">\n",
            "<li style=\"margin-bottom:0px;\">Relocation assistance for you and your family.</li>\n",
            "<li>Bachelor's or Master's Degree.</li>\n",
            "</ul></div><span class=\"date\"><span class=\"visually-hidden\">Posted</span>30+ days ago</span><span class=\"result-link-bar-separator\">·</span><button aria-expanded=\"false\" class=\"sl resultLink more_links_button\" type=\"button\">More...</button></div><div class=\"tab-container\"><div class=\"more-links-container result-tab\"><div class=\"more_links\"><button aria-label=\"Close\" class=\"close-button\" title=\"Close\" type=\"button\"></button><ul><li><span class=\"mat\">View all <a href=\"/jobs?q=Tempo-tc&amp;l=Silicon+Valley,+CA\">Tempo-TC jobs in Silicon Valley, CA</a> - <a href=\"/l-Silicon-Valley,-CA-jobs.html\">Silicon Valley jobs</a></span></li><li><span class=\"mat\">Salary Search: <a href=\"/career/salaries/Visual%20Basic%20Developer/Silicon%20Valley,%20CA?campaignid=serp-more&amp;fromjk=38e008dde8e71c32&amp;from=serp-more\">Visual Basic programmers salaries</a></span></li></ul></div></div></div></td></tr></tbody></table><div aria-live=\"polite\"></div></div>\n"
          ]
        }
      ]
    },
    {
      "cell_type": "code",
      "source": [
        "job_title = card.find('h2').find('span').text.strip()"
      ],
      "metadata": {
        "id": "cdm6B-hr7PSE"
      },
      "execution_count": null,
      "outputs": []
    },
    {
      "cell_type": "code",
      "source": [
        "print(job_title)"
      ],
      "metadata": {
        "colab": {
          "base_uri": "https://localhost:8080/"
        },
        "id": "lHlgDJHqidw6",
        "outputId": "85c2afae-642e-4b2e-d873-9b5ac760c9c6"
      },
      "execution_count": null,
      "outputs": [
        {
          "output_type": "stream",
          "name": "stdout",
          "text": [
            "Visual Basic programmers\n"
          ]
        }
      ]
    },
    {
      "cell_type": "code",
      "source": [
        "try:\n",
        "  company = card.find('span', 'companyName').text.strip()\n",
        "except AttributeError:\n",
        "    company = 'N/A'"
      ],
      "metadata": {
        "id": "P9JpUhYMC498"
      },
      "execution_count": null,
      "outputs": []
    },
    {
      "cell_type": "code",
      "source": [
        "print(company)"
      ],
      "metadata": {
        "colab": {
          "base_uri": "https://localhost:8080/"
        },
        "id": "AHAR79B4f5-O",
        "outputId": "1554ce33-4938-436f-96f4-a05a5224c9cb"
      },
      "execution_count": null,
      "outputs": [
        {
          "output_type": "stream",
          "name": "stdout",
          "text": [
            "Tempo-TC\n"
          ]
        }
      ]
    },
    {
      "cell_type": "code",
      "source": [
        "job_location = card.find('div', {'class': 'companyLocation'}).text.strip()"
      ],
      "metadata": {
        "id": "BaeG9EBRmv9x"
      },
      "execution_count": null,
      "outputs": []
    },
    {
      "cell_type": "code",
      "source": [
        "print(job_location)"
      ],
      "metadata": {
        "colab": {
          "base_uri": "https://localhost:8080/"
        },
        "id": "yht6bawVn-6u",
        "outputId": "d04348e9-002a-49bf-a2c2-1cf29b25fc67"
      },
      "execution_count": null,
      "outputs": [
        {
          "output_type": "stream",
          "name": "stdout",
          "text": [
            "Silicon Valley, CA\n"
          ]
        }
      ]
    },
    {
      "cell_type": "code",
      "source": [
        "job_summary = card.find('div', 'job-snippet').text.strip()"
      ],
      "metadata": {
        "id": "LhQuYamMoBmt"
      },
      "execution_count": null,
      "outputs": []
    },
    {
      "cell_type": "code",
      "source": [
        "print(job_summary)"
      ],
      "metadata": {
        "colab": {
          "base_uri": "https://localhost:8080/"
        },
        "id": "8hf0f06opaL9",
        "outputId": "1ea3d0f5-914e-4301-c26b-6b4debf0b2f6"
      },
      "execution_count": null,
      "outputs": [
        {
          "output_type": "stream",
          "name": "stdout",
          "text": [
            "Relocation assistance for you and your family.\n",
            "Bachelor's or Master's Degree.\n"
          ]
        }
      ]
    },
    {
      "cell_type": "code",
      "source": [
        "post_date = card.find('span', 'date').text.strip()"
      ],
      "metadata": {
        "id": "MEsxUnFTpdFV"
      },
      "execution_count": null,
      "outputs": []
    },
    {
      "cell_type": "code",
      "source": [
        "print(post_date)"
      ],
      "metadata": {
        "colab": {
          "base_uri": "https://localhost:8080/"
        },
        "id": "VWnhnQjBqBpg",
        "outputId": "b99ed0b8-0d64-4d08-deae-dbeef850c5dd"
      },
      "execution_count": null,
      "outputs": [
        {
          "output_type": "stream",
          "name": "stdout",
          "text": [
            "Posted30+ days ago\n"
          ]
        }
      ]
    },
    {
      "cell_type": "code",
      "source": [
        "today = datetime.today().strftime('%Y-%m-%d')"
      ],
      "metadata": {
        "id": "Y7XUyZYBqDpX"
      },
      "execution_count": null,
      "outputs": []
    },
    {
      "cell_type": "code",
      "source": [
        "print(today)"
      ],
      "metadata": {
        "colab": {
          "base_uri": "https://localhost:8080/"
        },
        "id": "EMY4WJ7DqTH2",
        "outputId": "710087e2-fb26-4b05-d09c-192b23f13194"
      },
      "execution_count": null,
      "outputs": [
        {
          "output_type": "stream",
          "name": "stdout",
          "text": [
            "2022-05-05\n"
          ]
        }
      ]
    },
    {
      "cell_type": "code",
      "source": [
        "try:\n",
        "  job_salary = card.find('span', 'estimated-salary').text.strip()\n",
        "except AttributeError:\n",
        "    job_salary = 'N/A'"
      ],
      "metadata": {
        "id": "zp_NsxV0qUtU"
      },
      "execution_count": null,
      "outputs": []
    },
    {
      "cell_type": "code",
      "source": [
        "record = (job_title, company, job_location, job_salary, job_summary, post_date, today)"
      ],
      "metadata": {
        "id": "HQLGL_wvrLHv"
      },
      "execution_count": null,
      "outputs": []
    },
    {
      "cell_type": "code",
      "source": [
        "print(record)"
      ],
      "metadata": {
        "colab": {
          "base_uri": "https://localhost:8080/"
        },
        "id": "eeUnSR3Gskg1",
        "outputId": "07e9859d-b72c-464a-cd21-f236f871bd7e"
      },
      "execution_count": null,
      "outputs": [
        {
          "output_type": "stream",
          "name": "stdout",
          "text": [
            "('Visual Basic programmers', 'Tempo-TC', 'Silicon Valley, CA', 'Estimated $76.1K - $96.3K a year', \"Relocation assistance for you and your family.\\nBachelor's or Master's Degree.\", 'Posted30+ days ago', '2022-05-05')\n"
          ]
        }
      ]
    },
    {
      "cell_type": "markdown",
      "source": [
        "# Generalize the model with a function"
      ],
      "metadata": {
        "id": "hth2iXZ6s0t3"
      }
    },
    {
      "cell_type": "code",
      "source": [
        "def get_record(card):\n",
        "    \"\"\"Extract job data from a single record\"\"\"\n",
        "    \n",
        "    job_title = card.find('h2').find('span').text.strip()\n",
        "    job_location = card.find('div', {'class': 'companyLocation'}).text.strip()\n",
        "    post_date = card.find('span', 'date').text.strip()\n",
        "    today = datetime.today().strftime('%Y-%m-%d')\n",
        "    job_summary = card.find('div', 'job-snippet').text.strip()\n",
        "    \n",
        "    # this does not exists for all jobs, so handle the exceptions\n",
        "    try:\n",
        "      job_salary = card.find('span', 'estimated-salary').text.strip()\n",
        "    except AttributeError:\n",
        "      job_salary = 'N/A' \n",
        "\n",
        "    try:\n",
        "      company = card.find('span', 'companyName').text.strip()\n",
        "    except AttributeError:\n",
        "      company = 'N/A'\n",
        "        \n",
        "    record = (job_title, company, job_location, job_salary, job_summary, post_date, today)\n",
        "    return record"
      ],
      "metadata": {
        "id": "jSCKxiqis11v"
      },
      "execution_count": null,
      "outputs": []
    },
    {
      "cell_type": "code",
      "source": [
        "records = []\n",
        "\n",
        "for card in cards:\n",
        "    record = get_record(card)\n",
        "    records.append(record)"
      ],
      "metadata": {
        "id": "Tl9roCQ2uNum"
      },
      "execution_count": null,
      "outputs": []
    },
    {
      "cell_type": "markdown",
      "source": [
        "# Get the next page"
      ],
      "metadata": {
        "id": "ikhuDybWuWjS"
      }
    },
    {
      "cell_type": "code",
      "source": [
        "while True:\n",
        "    try:\n",
        "        url = 'https://www.indeed.com' + soup.find('a', {'aria-label': 'Next'}).get('href')\n",
        "    except AttributeError:\n",
        "        break\n",
        "\n",
        "    response = requests.get(url)\n",
        "    soup = BeautifulSoup(response.text, 'html.parser')\n",
        "    cards = soup.find_all('div', attrs={'class':'job_seen_beacon'})\n",
        "\n",
        "    for card in cards:\n",
        "        record = get_record(card)\n",
        "        records.append(record)"
      ],
      "metadata": {
        "id": "MtEypR_luQlR"
      },
      "execution_count": null,
      "outputs": []
    },
    {
      "cell_type": "markdown",
      "source": [
        "# Putting it all together"
      ],
      "metadata": {
        "id": "xY135q0_uuFW"
      }
    },
    {
      "cell_type": "code",
      "source": [
        "import csv\n",
        "from datetime import datetime\n",
        "import requests\n",
        "from bs4 import BeautifulSoup\n",
        "\n",
        "\n",
        "def get_url(position, location):\n",
        "    \"\"\"Generate url from position and location\"\"\"\n",
        "    template = 'https://www.indeed.com/jobs?q={}&l={}'\n",
        "    position = position.replace(' ', '+')\n",
        "    location = location.replace(' ', '+')\n",
        "    url = template.format(position, location)\n",
        "    return url\n",
        "\n",
        "\n",
        "def get_record(card):\n",
        "    \"\"\"Extract job data from a single record\"\"\"\n",
        "    \n",
        "    job_title = card.find('h2').find('span').text.strip()\n",
        "    job_location = card.find('div', {'class': 'companyLocation'}).text.strip()\n",
        "    post_date = card.find('span', 'date').text.strip()\n",
        "    today = datetime.today().strftime('%Y-%m-%d')\n",
        "    job_summary = card.find('div', 'job-snippet').text.strip()\n",
        "    \n",
        "    # this does not exists for all jobs, so handle the exceptions\n",
        "    try:\n",
        "      job_salary = card.find('span', 'estimated-salary').text.strip()\n",
        "    except AttributeError:\n",
        "      job_salary = 'N/A' \n",
        "\n",
        "    try:\n",
        "      company = card.find('span', 'companyName').text.strip()\n",
        "    except AttributeError:\n",
        "      company = 'N/A'\n",
        "        \n",
        "    record = (job_title, company, job_location, job_salary, job_summary, post_date, today)\n",
        "    return record\n",
        "\n",
        "\n",
        "def main(position, location):\n",
        "    \"\"\"Run the main program routine\"\"\"\n",
        "    records = []\n",
        "    url = get_url(position, location)\n",
        "    \n",
        "    # extract the job data\n",
        "    while True:\n",
        "        response = requests.get(url)\n",
        "        soup = BeautifulSoup(response.text, 'html.parser')\n",
        "        cards = soup.find_all('div', attrs={'class':'job_seen_beacon'})\n",
        "        for card in cards:\n",
        "            record = get_record(card)\n",
        "            records.append(record)\n",
        "        try:\n",
        "            url = 'https://www.indeed.com' + soup.find('a', {'aria-label': 'Next'}).get('href')\n",
        "        except AttributeError:\n",
        "            break\n",
        "        \n",
        "    # save the job data\n",
        "    with open('results.csv', 'a', newline='', encoding='utf-8') as f:\n",
        "        writer = csv.writer(f)\n",
        "        writer.writerow(['JobTitle', 'Company', 'Location', 'Salary', 'Summary', 'PostDate', 'ExtractDate'])\n",
        "        writer.writerows(records)"
      ],
      "metadata": {
        "id": "m9n7CJwvuZZQ"
      },
      "execution_count": null,
      "outputs": []
    },
    {
      "cell_type": "code",
      "source": [
        "# run the main program\n",
        "main('ui designer', 'san jose, ca')"
      ],
      "metadata": {
        "id": "zQ-nkB1awIUh"
      },
      "execution_count": null,
      "outputs": []
    },
    {
      "cell_type": "markdown",
      "source": [
        "# Data Analysis"
      ],
      "metadata": {
        "id": "PYnw7Lz-9ZP1"
      }
    },
    {
      "cell_type": "markdown",
      "source": [
        "## Import Data"
      ],
      "metadata": {
        "id": "TGUp6uguCGtF"
      }
    },
    {
      "cell_type": "code",
      "source": [
        "import pandas as pd\n",
        "import seaborn as sns\n",
        "import json\n",
        "from urllib import request"
      ],
      "metadata": {
        "id": "yK0FLQ8fwNJn"
      },
      "execution_count": null,
      "outputs": []
    },
    {
      "cell_type": "code",
      "source": [
        "results = pd.read_csv('results.csv')"
      ],
      "metadata": {
        "id": "dOPaaqVg9dHs"
      },
      "execution_count": null,
      "outputs": []
    },
    {
      "cell_type": "code",
      "source": [
        "results.head()"
      ],
      "metadata": {
        "colab": {
          "base_uri": "https://localhost:8080/",
          "height": 337
        },
        "id": "PAqt_Fg69zg4",
        "outputId": "498db4aa-8f0e-4a77-85e8-6869d57f91b9"
      },
      "execution_count": null,
      "outputs": [
        {
          "output_type": "execute_result",
          "data": {
            "text/plain": [
              "                                            JobTitle  \\\n",
              "0  Quantitative Analytics Professional - Data Sci...   \n",
              "1                                     Data Scientist   \n",
              "2                                     Data Scientist   \n",
              "3                                                new   \n",
              "4                Data Scientist (Banking/Financials)   \n",
              "\n",
              "                     Company                           Location Salary  \\\n",
              "0                Freddie Mac  Hybrid remote in McLean, VA 22102    NaN   \n",
              "1            Thomson Reuters                   McLean, VA 22102    NaN   \n",
              "2              Strider, Inc.        Remote in Tysons Corner, VA    NaN   \n",
              "3  Navy Federal Credit Union  Hybrid remote in Vienna, VA 22180    NaN   \n",
              "4               Pitney Bowes           Remote in Washington, DC    NaN   \n",
              "\n",
              "                                             Summary  \\\n",
              "0  Qualifying coursework may include—but is not l...   \n",
              "1  Do you have the skills necessary to manage, un...   \n",
              "2  Collaborate with subject matter experts to del...   \n",
              "3  Advanced skill data mining, data wrangling, an...   \n",
              "4  Contribute to the creation of a new analytics ...   \n",
              "\n",
              "                     PostDate ExtractDate  \n",
              "0          Posted30+ days ago  2022-05-05  \n",
              "1          Posted30+ days ago  2022-05-05  \n",
              "2  EmployerActive 17 days ago  2022-05-05  \n",
              "3            Posted7 days ago  2022-05-05  \n",
              "4          Posted30+ days ago  2022-05-05  "
            ],
            "text/html": [
              "\n",
              "  <div id=\"df-cb144cec-9ed7-44d2-9ebb-264a00239ff3\">\n",
              "    <div class=\"colab-df-container\">\n",
              "      <div>\n",
              "<style scoped>\n",
              "    .dataframe tbody tr th:only-of-type {\n",
              "        vertical-align: middle;\n",
              "    }\n",
              "\n",
              "    .dataframe tbody tr th {\n",
              "        vertical-align: top;\n",
              "    }\n",
              "\n",
              "    .dataframe thead th {\n",
              "        text-align: right;\n",
              "    }\n",
              "</style>\n",
              "<table border=\"1\" class=\"dataframe\">\n",
              "  <thead>\n",
              "    <tr style=\"text-align: right;\">\n",
              "      <th></th>\n",
              "      <th>JobTitle</th>\n",
              "      <th>Company</th>\n",
              "      <th>Location</th>\n",
              "      <th>Salary</th>\n",
              "      <th>Summary</th>\n",
              "      <th>PostDate</th>\n",
              "      <th>ExtractDate</th>\n",
              "    </tr>\n",
              "  </thead>\n",
              "  <tbody>\n",
              "    <tr>\n",
              "      <th>0</th>\n",
              "      <td>Quantitative Analytics Professional - Data Sci...</td>\n",
              "      <td>Freddie Mac</td>\n",
              "      <td>Hybrid remote in McLean, VA 22102</td>\n",
              "      <td>NaN</td>\n",
              "      <td>Qualifying coursework may include—but is not l...</td>\n",
              "      <td>Posted30+ days ago</td>\n",
              "      <td>2022-05-05</td>\n",
              "    </tr>\n",
              "    <tr>\n",
              "      <th>1</th>\n",
              "      <td>Data Scientist</td>\n",
              "      <td>Thomson Reuters</td>\n",
              "      <td>McLean, VA 22102</td>\n",
              "      <td>NaN</td>\n",
              "      <td>Do you have the skills necessary to manage, un...</td>\n",
              "      <td>Posted30+ days ago</td>\n",
              "      <td>2022-05-05</td>\n",
              "    </tr>\n",
              "    <tr>\n",
              "      <th>2</th>\n",
              "      <td>Data Scientist</td>\n",
              "      <td>Strider, Inc.</td>\n",
              "      <td>Remote in Tysons Corner, VA</td>\n",
              "      <td>NaN</td>\n",
              "      <td>Collaborate with subject matter experts to del...</td>\n",
              "      <td>EmployerActive 17 days ago</td>\n",
              "      <td>2022-05-05</td>\n",
              "    </tr>\n",
              "    <tr>\n",
              "      <th>3</th>\n",
              "      <td>new</td>\n",
              "      <td>Navy Federal Credit Union</td>\n",
              "      <td>Hybrid remote in Vienna, VA 22180</td>\n",
              "      <td>NaN</td>\n",
              "      <td>Advanced skill data mining, data wrangling, an...</td>\n",
              "      <td>Posted7 days ago</td>\n",
              "      <td>2022-05-05</td>\n",
              "    </tr>\n",
              "    <tr>\n",
              "      <th>4</th>\n",
              "      <td>Data Scientist (Banking/Financials)</td>\n",
              "      <td>Pitney Bowes</td>\n",
              "      <td>Remote in Washington, DC</td>\n",
              "      <td>NaN</td>\n",
              "      <td>Contribute to the creation of a new analytics ...</td>\n",
              "      <td>Posted30+ days ago</td>\n",
              "      <td>2022-05-05</td>\n",
              "    </tr>\n",
              "  </tbody>\n",
              "</table>\n",
              "</div>\n",
              "      <button class=\"colab-df-convert\" onclick=\"convertToInteractive('df-cb144cec-9ed7-44d2-9ebb-264a00239ff3')\"\n",
              "              title=\"Convert this dataframe to an interactive table.\"\n",
              "              style=\"display:none;\">\n",
              "        \n",
              "  <svg xmlns=\"http://www.w3.org/2000/svg\" height=\"24px\"viewBox=\"0 0 24 24\"\n",
              "       width=\"24px\">\n",
              "    <path d=\"M0 0h24v24H0V0z\" fill=\"none\"/>\n",
              "    <path d=\"M18.56 5.44l.94 2.06.94-2.06 2.06-.94-2.06-.94-.94-2.06-.94 2.06-2.06.94zm-11 1L8.5 8.5l.94-2.06 2.06-.94-2.06-.94L8.5 2.5l-.94 2.06-2.06.94zm10 10l.94 2.06.94-2.06 2.06-.94-2.06-.94-.94-2.06-.94 2.06-2.06.94z\"/><path d=\"M17.41 7.96l-1.37-1.37c-.4-.4-.92-.59-1.43-.59-.52 0-1.04.2-1.43.59L10.3 9.45l-7.72 7.72c-.78.78-.78 2.05 0 2.83L4 21.41c.39.39.9.59 1.41.59.51 0 1.02-.2 1.41-.59l7.78-7.78 2.81-2.81c.8-.78.8-2.07 0-2.86zM5.41 20L4 18.59l7.72-7.72 1.47 1.35L5.41 20z\"/>\n",
              "  </svg>\n",
              "      </button>\n",
              "      \n",
              "  <style>\n",
              "    .colab-df-container {\n",
              "      display:flex;\n",
              "      flex-wrap:wrap;\n",
              "      gap: 12px;\n",
              "    }\n",
              "\n",
              "    .colab-df-convert {\n",
              "      background-color: #E8F0FE;\n",
              "      border: none;\n",
              "      border-radius: 50%;\n",
              "      cursor: pointer;\n",
              "      display: none;\n",
              "      fill: #1967D2;\n",
              "      height: 32px;\n",
              "      padding: 0 0 0 0;\n",
              "      width: 32px;\n",
              "    }\n",
              "\n",
              "    .colab-df-convert:hover {\n",
              "      background-color: #E2EBFA;\n",
              "      box-shadow: 0px 1px 2px rgba(60, 64, 67, 0.3), 0px 1px 3px 1px rgba(60, 64, 67, 0.15);\n",
              "      fill: #174EA6;\n",
              "    }\n",
              "\n",
              "    [theme=dark] .colab-df-convert {\n",
              "      background-color: #3B4455;\n",
              "      fill: #D2E3FC;\n",
              "    }\n",
              "\n",
              "    [theme=dark] .colab-df-convert:hover {\n",
              "      background-color: #434B5C;\n",
              "      box-shadow: 0px 1px 3px 1px rgba(0, 0, 0, 0.15);\n",
              "      filter: drop-shadow(0px 1px 2px rgba(0, 0, 0, 0.3));\n",
              "      fill: #FFFFFF;\n",
              "    }\n",
              "  </style>\n",
              "\n",
              "      <script>\n",
              "        const buttonEl =\n",
              "          document.querySelector('#df-cb144cec-9ed7-44d2-9ebb-264a00239ff3 button.colab-df-convert');\n",
              "        buttonEl.style.display =\n",
              "          google.colab.kernel.accessAllowed ? 'block' : 'none';\n",
              "\n",
              "        async function convertToInteractive(key) {\n",
              "          const element = document.querySelector('#df-cb144cec-9ed7-44d2-9ebb-264a00239ff3');\n",
              "          const dataTable =\n",
              "            await google.colab.kernel.invokeFunction('convertToInteractive',\n",
              "                                                     [key], {});\n",
              "          if (!dataTable) return;\n",
              "\n",
              "          const docLinkHtml = 'Like what you see? Visit the ' +\n",
              "            '<a target=\"_blank\" href=https://colab.research.google.com/notebooks/data_table.ipynb>data table notebook</a>'\n",
              "            + ' to learn more about interactive tables.';\n",
              "          element.innerHTML = '';\n",
              "          dataTable['output_type'] = 'display_data';\n",
              "          await google.colab.output.renderOutput(dataTable, element);\n",
              "          const docLink = document.createElement('div');\n",
              "          docLink.innerHTML = docLinkHtml;\n",
              "          element.appendChild(docLink);\n",
              "        }\n",
              "      </script>\n",
              "    </div>\n",
              "  </div>\n",
              "  "
            ]
          },
          "metadata": {},
          "execution_count": 392
        }
      ]
    },
    {
      "cell_type": "code",
      "source": [
        "results.info()"
      ],
      "metadata": {
        "colab": {
          "base_uri": "https://localhost:8080/"
        },
        "id": "Lurz_Jf295yP",
        "outputId": "5b52802d-817c-4a41-8d30-6960bf220c1c"
      },
      "execution_count": null,
      "outputs": [
        {
          "output_type": "stream",
          "name": "stdout",
          "text": [
            "<class 'pandas.core.frame.DataFrame'>\n",
            "RangeIndex: 2476 entries, 0 to 2475\n",
            "Data columns (total 7 columns):\n",
            " #   Column       Non-Null Count  Dtype \n",
            "---  ------       --------------  ----- \n",
            " 0   JobTitle     2476 non-null   object\n",
            " 1   Company      2476 non-null   object\n",
            " 2   Location     2476 non-null   object\n",
            " 3   Salary       572 non-null    object\n",
            " 4   Summary      2476 non-null   object\n",
            " 5   PostDate     2476 non-null   object\n",
            " 6   ExtractDate  2476 non-null   object\n",
            "dtypes: object(7)\n",
            "memory usage: 135.5+ KB\n"
          ]
        }
      ]
    },
    {
      "cell_type": "markdown",
      "source": [
        "## Clean Data"
      ],
      "metadata": {
        "id": "1P_Z43cLCR5X"
      }
    },
    {
      "cell_type": "code",
      "source": [
        "results.nunique(dropna=False)"
      ],
      "metadata": {
        "colab": {
          "base_uri": "https://localhost:8080/"
        },
        "id": "FYlV99bz-ySH",
        "outputId": "5b4b28b9-f613-436e-baf4-e6aff7c988f0"
      },
      "execution_count": null,
      "outputs": [
        {
          "output_type": "execute_result",
          "data": {
            "text/plain": [
              "JobTitle       1003\n",
              "Company        1084\n",
              "Location        741\n",
              "Salary          253\n",
              "Summary        1736\n",
              "PostDate         56\n",
              "ExtractDate       2\n",
              "dtype: int64"
            ]
          },
          "metadata": {},
          "execution_count": 394
        }
      ]
    },
    {
      "cell_type": "code",
      "source": [
        "results = results.drop(columns=['Summary', 'ExtractDate'])"
      ],
      "metadata": {
        "id": "DMruqAETAFGL"
      },
      "execution_count": null,
      "outputs": []
    },
    {
      "cell_type": "code",
      "source": [
        "results.head()"
      ],
      "metadata": {
        "colab": {
          "base_uri": "https://localhost:8080/",
          "height": 206
        },
        "id": "9ZAxbAFeAnzO",
        "outputId": "a2931334-bdc1-4733-bdb2-fb16982a98dd"
      },
      "execution_count": null,
      "outputs": [
        {
          "output_type": "execute_result",
          "data": {
            "text/plain": [
              "                                            JobTitle  \\\n",
              "0  Quantitative Analytics Professional - Data Sci...   \n",
              "1                                     Data Scientist   \n",
              "2                                     Data Scientist   \n",
              "3                                                new   \n",
              "4                Data Scientist (Banking/Financials)   \n",
              "\n",
              "                     Company                           Location Salary  \\\n",
              "0                Freddie Mac  Hybrid remote in McLean, VA 22102    NaN   \n",
              "1            Thomson Reuters                   McLean, VA 22102    NaN   \n",
              "2              Strider, Inc.        Remote in Tysons Corner, VA    NaN   \n",
              "3  Navy Federal Credit Union  Hybrid remote in Vienna, VA 22180    NaN   \n",
              "4               Pitney Bowes           Remote in Washington, DC    NaN   \n",
              "\n",
              "                     PostDate  \n",
              "0          Posted30+ days ago  \n",
              "1          Posted30+ days ago  \n",
              "2  EmployerActive 17 days ago  \n",
              "3            Posted7 days ago  \n",
              "4          Posted30+ days ago  "
            ],
            "text/html": [
              "\n",
              "  <div id=\"df-7bfef5cc-9529-4ab0-ba74-d569cebe6d10\">\n",
              "    <div class=\"colab-df-container\">\n",
              "      <div>\n",
              "<style scoped>\n",
              "    .dataframe tbody tr th:only-of-type {\n",
              "        vertical-align: middle;\n",
              "    }\n",
              "\n",
              "    .dataframe tbody tr th {\n",
              "        vertical-align: top;\n",
              "    }\n",
              "\n",
              "    .dataframe thead th {\n",
              "        text-align: right;\n",
              "    }\n",
              "</style>\n",
              "<table border=\"1\" class=\"dataframe\">\n",
              "  <thead>\n",
              "    <tr style=\"text-align: right;\">\n",
              "      <th></th>\n",
              "      <th>JobTitle</th>\n",
              "      <th>Company</th>\n",
              "      <th>Location</th>\n",
              "      <th>Salary</th>\n",
              "      <th>PostDate</th>\n",
              "    </tr>\n",
              "  </thead>\n",
              "  <tbody>\n",
              "    <tr>\n",
              "      <th>0</th>\n",
              "      <td>Quantitative Analytics Professional - Data Sci...</td>\n",
              "      <td>Freddie Mac</td>\n",
              "      <td>Hybrid remote in McLean, VA 22102</td>\n",
              "      <td>NaN</td>\n",
              "      <td>Posted30+ days ago</td>\n",
              "    </tr>\n",
              "    <tr>\n",
              "      <th>1</th>\n",
              "      <td>Data Scientist</td>\n",
              "      <td>Thomson Reuters</td>\n",
              "      <td>McLean, VA 22102</td>\n",
              "      <td>NaN</td>\n",
              "      <td>Posted30+ days ago</td>\n",
              "    </tr>\n",
              "    <tr>\n",
              "      <th>2</th>\n",
              "      <td>Data Scientist</td>\n",
              "      <td>Strider, Inc.</td>\n",
              "      <td>Remote in Tysons Corner, VA</td>\n",
              "      <td>NaN</td>\n",
              "      <td>EmployerActive 17 days ago</td>\n",
              "    </tr>\n",
              "    <tr>\n",
              "      <th>3</th>\n",
              "      <td>new</td>\n",
              "      <td>Navy Federal Credit Union</td>\n",
              "      <td>Hybrid remote in Vienna, VA 22180</td>\n",
              "      <td>NaN</td>\n",
              "      <td>Posted7 days ago</td>\n",
              "    </tr>\n",
              "    <tr>\n",
              "      <th>4</th>\n",
              "      <td>Data Scientist (Banking/Financials)</td>\n",
              "      <td>Pitney Bowes</td>\n",
              "      <td>Remote in Washington, DC</td>\n",
              "      <td>NaN</td>\n",
              "      <td>Posted30+ days ago</td>\n",
              "    </tr>\n",
              "  </tbody>\n",
              "</table>\n",
              "</div>\n",
              "      <button class=\"colab-df-convert\" onclick=\"convertToInteractive('df-7bfef5cc-9529-4ab0-ba74-d569cebe6d10')\"\n",
              "              title=\"Convert this dataframe to an interactive table.\"\n",
              "              style=\"display:none;\">\n",
              "        \n",
              "  <svg xmlns=\"http://www.w3.org/2000/svg\" height=\"24px\"viewBox=\"0 0 24 24\"\n",
              "       width=\"24px\">\n",
              "    <path d=\"M0 0h24v24H0V0z\" fill=\"none\"/>\n",
              "    <path d=\"M18.56 5.44l.94 2.06.94-2.06 2.06-.94-2.06-.94-.94-2.06-.94 2.06-2.06.94zm-11 1L8.5 8.5l.94-2.06 2.06-.94-2.06-.94L8.5 2.5l-.94 2.06-2.06.94zm10 10l.94 2.06.94-2.06 2.06-.94-2.06-.94-.94-2.06-.94 2.06-2.06.94z\"/><path d=\"M17.41 7.96l-1.37-1.37c-.4-.4-.92-.59-1.43-.59-.52 0-1.04.2-1.43.59L10.3 9.45l-7.72 7.72c-.78.78-.78 2.05 0 2.83L4 21.41c.39.39.9.59 1.41.59.51 0 1.02-.2 1.41-.59l7.78-7.78 2.81-2.81c.8-.78.8-2.07 0-2.86zM5.41 20L4 18.59l7.72-7.72 1.47 1.35L5.41 20z\"/>\n",
              "  </svg>\n",
              "      </button>\n",
              "      \n",
              "  <style>\n",
              "    .colab-df-container {\n",
              "      display:flex;\n",
              "      flex-wrap:wrap;\n",
              "      gap: 12px;\n",
              "    }\n",
              "\n",
              "    .colab-df-convert {\n",
              "      background-color: #E8F0FE;\n",
              "      border: none;\n",
              "      border-radius: 50%;\n",
              "      cursor: pointer;\n",
              "      display: none;\n",
              "      fill: #1967D2;\n",
              "      height: 32px;\n",
              "      padding: 0 0 0 0;\n",
              "      width: 32px;\n",
              "    }\n",
              "\n",
              "    .colab-df-convert:hover {\n",
              "      background-color: #E2EBFA;\n",
              "      box-shadow: 0px 1px 2px rgba(60, 64, 67, 0.3), 0px 1px 3px 1px rgba(60, 64, 67, 0.15);\n",
              "      fill: #174EA6;\n",
              "    }\n",
              "\n",
              "    [theme=dark] .colab-df-convert {\n",
              "      background-color: #3B4455;\n",
              "      fill: #D2E3FC;\n",
              "    }\n",
              "\n",
              "    [theme=dark] .colab-df-convert:hover {\n",
              "      background-color: #434B5C;\n",
              "      box-shadow: 0px 1px 3px 1px rgba(0, 0, 0, 0.15);\n",
              "      filter: drop-shadow(0px 1px 2px rgba(0, 0, 0, 0.3));\n",
              "      fill: #FFFFFF;\n",
              "    }\n",
              "  </style>\n",
              "\n",
              "      <script>\n",
              "        const buttonEl =\n",
              "          document.querySelector('#df-7bfef5cc-9529-4ab0-ba74-d569cebe6d10 button.colab-df-convert');\n",
              "        buttonEl.style.display =\n",
              "          google.colab.kernel.accessAllowed ? 'block' : 'none';\n",
              "\n",
              "        async function convertToInteractive(key) {\n",
              "          const element = document.querySelector('#df-7bfef5cc-9529-4ab0-ba74-d569cebe6d10');\n",
              "          const dataTable =\n",
              "            await google.colab.kernel.invokeFunction('convertToInteractive',\n",
              "                                                     [key], {});\n",
              "          if (!dataTable) return;\n",
              "\n",
              "          const docLinkHtml = 'Like what you see? Visit the ' +\n",
              "            '<a target=\"_blank\" href=https://colab.research.google.com/notebooks/data_table.ipynb>data table notebook</a>'\n",
              "            + ' to learn more about interactive tables.';\n",
              "          element.innerHTML = '';\n",
              "          dataTable['output_type'] = 'display_data';\n",
              "          await google.colab.output.renderOutput(dataTable, element);\n",
              "          const docLink = document.createElement('div');\n",
              "          docLink.innerHTML = docLinkHtml;\n",
              "          element.appendChild(docLink);\n",
              "        }\n",
              "      </script>\n",
              "    </div>\n",
              "  </div>\n",
              "  "
            ]
          },
          "metadata": {},
          "execution_count": 396
        }
      ]
    },
    {
      "cell_type": "code",
      "source": [
        "results = results[results.JobTitle != 'new']"
      ],
      "metadata": {
        "id": "TfXRb9AyAp_h"
      },
      "execution_count": null,
      "outputs": []
    },
    {
      "cell_type": "code",
      "source": [
        "results.head()"
      ],
      "metadata": {
        "colab": {
          "base_uri": "https://localhost:8080/",
          "height": 206
        },
        "id": "71A-V-WsB1HW",
        "outputId": "09753e40-38dd-4b9c-d521-9f8790bebf1b"
      },
      "execution_count": null,
      "outputs": [
        {
          "output_type": "execute_result",
          "data": {
            "text/plain": [
              "                                            JobTitle  \\\n",
              "0  Quantitative Analytics Professional - Data Sci...   \n",
              "1                                     Data Scientist   \n",
              "2                                     Data Scientist   \n",
              "4                Data Scientist (Banking/Financials)   \n",
              "6                                   Data Scientist I   \n",
              "\n",
              "                                   Company                           Location  \\\n",
              "0                              Freddie Mac  Hybrid remote in McLean, VA 22102   \n",
              "1                          Thomson Reuters                   McLean, VA 22102   \n",
              "2                            Strider, Inc.        Remote in Tysons Corner, VA   \n",
              "4                             Pitney Bowes           Remote in Washington, DC   \n",
              "6  American Express Global Business Travel                     Washington, DC   \n",
              "\n",
              "  Salary                    PostDate  \n",
              "0    NaN          Posted30+ days ago  \n",
              "1    NaN          Posted30+ days ago  \n",
              "2    NaN  EmployerActive 17 days ago  \n",
              "4    NaN          Posted30+ days ago  \n",
              "6    NaN           Posted20 days ago  "
            ],
            "text/html": [
              "\n",
              "  <div id=\"df-769c5526-db83-4426-8224-9ca5f1941ceb\">\n",
              "    <div class=\"colab-df-container\">\n",
              "      <div>\n",
              "<style scoped>\n",
              "    .dataframe tbody tr th:only-of-type {\n",
              "        vertical-align: middle;\n",
              "    }\n",
              "\n",
              "    .dataframe tbody tr th {\n",
              "        vertical-align: top;\n",
              "    }\n",
              "\n",
              "    .dataframe thead th {\n",
              "        text-align: right;\n",
              "    }\n",
              "</style>\n",
              "<table border=\"1\" class=\"dataframe\">\n",
              "  <thead>\n",
              "    <tr style=\"text-align: right;\">\n",
              "      <th></th>\n",
              "      <th>JobTitle</th>\n",
              "      <th>Company</th>\n",
              "      <th>Location</th>\n",
              "      <th>Salary</th>\n",
              "      <th>PostDate</th>\n",
              "    </tr>\n",
              "  </thead>\n",
              "  <tbody>\n",
              "    <tr>\n",
              "      <th>0</th>\n",
              "      <td>Quantitative Analytics Professional - Data Sci...</td>\n",
              "      <td>Freddie Mac</td>\n",
              "      <td>Hybrid remote in McLean, VA 22102</td>\n",
              "      <td>NaN</td>\n",
              "      <td>Posted30+ days ago</td>\n",
              "    </tr>\n",
              "    <tr>\n",
              "      <th>1</th>\n",
              "      <td>Data Scientist</td>\n",
              "      <td>Thomson Reuters</td>\n",
              "      <td>McLean, VA 22102</td>\n",
              "      <td>NaN</td>\n",
              "      <td>Posted30+ days ago</td>\n",
              "    </tr>\n",
              "    <tr>\n",
              "      <th>2</th>\n",
              "      <td>Data Scientist</td>\n",
              "      <td>Strider, Inc.</td>\n",
              "      <td>Remote in Tysons Corner, VA</td>\n",
              "      <td>NaN</td>\n",
              "      <td>EmployerActive 17 days ago</td>\n",
              "    </tr>\n",
              "    <tr>\n",
              "      <th>4</th>\n",
              "      <td>Data Scientist (Banking/Financials)</td>\n",
              "      <td>Pitney Bowes</td>\n",
              "      <td>Remote in Washington, DC</td>\n",
              "      <td>NaN</td>\n",
              "      <td>Posted30+ days ago</td>\n",
              "    </tr>\n",
              "    <tr>\n",
              "      <th>6</th>\n",
              "      <td>Data Scientist I</td>\n",
              "      <td>American Express Global Business Travel</td>\n",
              "      <td>Washington, DC</td>\n",
              "      <td>NaN</td>\n",
              "      <td>Posted20 days ago</td>\n",
              "    </tr>\n",
              "  </tbody>\n",
              "</table>\n",
              "</div>\n",
              "      <button class=\"colab-df-convert\" onclick=\"convertToInteractive('df-769c5526-db83-4426-8224-9ca5f1941ceb')\"\n",
              "              title=\"Convert this dataframe to an interactive table.\"\n",
              "              style=\"display:none;\">\n",
              "        \n",
              "  <svg xmlns=\"http://www.w3.org/2000/svg\" height=\"24px\"viewBox=\"0 0 24 24\"\n",
              "       width=\"24px\">\n",
              "    <path d=\"M0 0h24v24H0V0z\" fill=\"none\"/>\n",
              "    <path d=\"M18.56 5.44l.94 2.06.94-2.06 2.06-.94-2.06-.94-.94-2.06-.94 2.06-2.06.94zm-11 1L8.5 8.5l.94-2.06 2.06-.94-2.06-.94L8.5 2.5l-.94 2.06-2.06.94zm10 10l.94 2.06.94-2.06 2.06-.94-2.06-.94-.94-2.06-.94 2.06-2.06.94z\"/><path d=\"M17.41 7.96l-1.37-1.37c-.4-.4-.92-.59-1.43-.59-.52 0-1.04.2-1.43.59L10.3 9.45l-7.72 7.72c-.78.78-.78 2.05 0 2.83L4 21.41c.39.39.9.59 1.41.59.51 0 1.02-.2 1.41-.59l7.78-7.78 2.81-2.81c.8-.78.8-2.07 0-2.86zM5.41 20L4 18.59l7.72-7.72 1.47 1.35L5.41 20z\"/>\n",
              "  </svg>\n",
              "      </button>\n",
              "      \n",
              "  <style>\n",
              "    .colab-df-container {\n",
              "      display:flex;\n",
              "      flex-wrap:wrap;\n",
              "      gap: 12px;\n",
              "    }\n",
              "\n",
              "    .colab-df-convert {\n",
              "      background-color: #E8F0FE;\n",
              "      border: none;\n",
              "      border-radius: 50%;\n",
              "      cursor: pointer;\n",
              "      display: none;\n",
              "      fill: #1967D2;\n",
              "      height: 32px;\n",
              "      padding: 0 0 0 0;\n",
              "      width: 32px;\n",
              "    }\n",
              "\n",
              "    .colab-df-convert:hover {\n",
              "      background-color: #E2EBFA;\n",
              "      box-shadow: 0px 1px 2px rgba(60, 64, 67, 0.3), 0px 1px 3px 1px rgba(60, 64, 67, 0.15);\n",
              "      fill: #174EA6;\n",
              "    }\n",
              "\n",
              "    [theme=dark] .colab-df-convert {\n",
              "      background-color: #3B4455;\n",
              "      fill: #D2E3FC;\n",
              "    }\n",
              "\n",
              "    [theme=dark] .colab-df-convert:hover {\n",
              "      background-color: #434B5C;\n",
              "      box-shadow: 0px 1px 3px 1px rgba(0, 0, 0, 0.15);\n",
              "      filter: drop-shadow(0px 1px 2px rgba(0, 0, 0, 0.3));\n",
              "      fill: #FFFFFF;\n",
              "    }\n",
              "  </style>\n",
              "\n",
              "      <script>\n",
              "        const buttonEl =\n",
              "          document.querySelector('#df-769c5526-db83-4426-8224-9ca5f1941ceb button.colab-df-convert');\n",
              "        buttonEl.style.display =\n",
              "          google.colab.kernel.accessAllowed ? 'block' : 'none';\n",
              "\n",
              "        async function convertToInteractive(key) {\n",
              "          const element = document.querySelector('#df-769c5526-db83-4426-8224-9ca5f1941ceb');\n",
              "          const dataTable =\n",
              "            await google.colab.kernel.invokeFunction('convertToInteractive',\n",
              "                                                     [key], {});\n",
              "          if (!dataTable) return;\n",
              "\n",
              "          const docLinkHtml = 'Like what you see? Visit the ' +\n",
              "            '<a target=\"_blank\" href=https://colab.research.google.com/notebooks/data_table.ipynb>data table notebook</a>'\n",
              "            + ' to learn more about interactive tables.';\n",
              "          element.innerHTML = '';\n",
              "          dataTable['output_type'] = 'display_data';\n",
              "          await google.colab.output.renderOutput(dataTable, element);\n",
              "          const docLink = document.createElement('div');\n",
              "          docLink.innerHTML = docLinkHtml;\n",
              "          element.appendChild(docLink);\n",
              "        }\n",
              "      </script>\n",
              "    </div>\n",
              "  </div>\n",
              "  "
            ]
          },
          "metadata": {},
          "execution_count": 398
        }
      ]
    },
    {
      "cell_type": "code",
      "source": [
        "results.info()"
      ],
      "metadata": {
        "colab": {
          "base_uri": "https://localhost:8080/"
        },
        "id": "I7phSbynB7fH",
        "outputId": "598daf17-8cbe-484d-dc9d-b288bb5dc86e"
      },
      "execution_count": null,
      "outputs": [
        {
          "output_type": "stream",
          "name": "stdout",
          "text": [
            "<class 'pandas.core.frame.DataFrame'>\n",
            "Int64Index: 1970 entries, 0 to 2475\n",
            "Data columns (total 5 columns):\n",
            " #   Column    Non-Null Count  Dtype \n",
            "---  ------    --------------  ----- \n",
            " 0   JobTitle  1970 non-null   object\n",
            " 1   Company   1970 non-null   object\n",
            " 2   Location  1970 non-null   object\n",
            " 3   Salary    469 non-null    object\n",
            " 4   PostDate  1970 non-null   object\n",
            "dtypes: object(5)\n",
            "memory usage: 92.3+ KB\n"
          ]
        }
      ]
    },
    {
      "cell_type": "code",
      "source": [
        "results.nunique(dropna=False)"
      ],
      "metadata": {
        "colab": {
          "base_uri": "https://localhost:8080/"
        },
        "id": "l_TxtuuICZRy",
        "outputId": "1adca56e-7716-48c0-891f-9ad8e0730d00"
      },
      "execution_count": null,
      "outputs": [
        {
          "output_type": "execute_result",
          "data": {
            "text/plain": [
              "JobTitle    1002\n",
              "Company      911\n",
              "Location     616\n",
              "Salary       220\n",
              "PostDate      47\n",
              "dtype: int64"
            ]
          },
          "metadata": {},
          "execution_count": 400
        }
      ]
    },
    {
      "cell_type": "code",
      "source": [
        "results.isnull().sum()"
      ],
      "metadata": {
        "colab": {
          "base_uri": "https://localhost:8080/"
        },
        "id": "cnegPwLzX2N7",
        "outputId": "d7ae122f-f77d-4c05-cd1a-736cc51fab7d"
      },
      "execution_count": null,
      "outputs": [
        {
          "output_type": "execute_result",
          "data": {
            "text/plain": [
              "JobTitle       0\n",
              "Company        0\n",
              "Location       0\n",
              "Salary      1501\n",
              "PostDate       0\n",
              "dtype: int64"
            ]
          },
          "metadata": {},
          "execution_count": 401
        }
      ]
    },
    {
      "cell_type": "markdown",
      "source": [
        "## Data Analysis"
      ],
      "metadata": {
        "id": "NGqfVTJ1KCq5"
      }
    },
    {
      "cell_type": "code",
      "source": [
        "results.describe()"
      ],
      "metadata": {
        "colab": {
          "base_uri": "https://localhost:8080/",
          "height": 175
        },
        "id": "4tY9KEhGDllw",
        "outputId": "73378c04-b8a7-4a90-c61b-4242d46de325"
      },
      "execution_count": null,
      "outputs": [
        {
          "output_type": "execute_result",
          "data": {
            "text/plain": [
              "              JobTitle                  Company    Location  Salary  \\\n",
              "count             1970                     1970        1970     469   \n",
              "unique            1002                      911         616     219   \n",
              "top     Data Scientist  Amazon.com Services LLC  Austin, TX  Salary   \n",
              "freq                90                       49         155      14   \n",
              "\n",
              "                  PostDate  \n",
              "count                 1970  \n",
              "unique                  47  \n",
              "top     Posted30+ days ago  \n",
              "freq                  1283  "
            ],
            "text/html": [
              "\n",
              "  <div id=\"df-3f35a0e2-e4fa-4450-b059-035705a0af6b\">\n",
              "    <div class=\"colab-df-container\">\n",
              "      <div>\n",
              "<style scoped>\n",
              "    .dataframe tbody tr th:only-of-type {\n",
              "        vertical-align: middle;\n",
              "    }\n",
              "\n",
              "    .dataframe tbody tr th {\n",
              "        vertical-align: top;\n",
              "    }\n",
              "\n",
              "    .dataframe thead th {\n",
              "        text-align: right;\n",
              "    }\n",
              "</style>\n",
              "<table border=\"1\" class=\"dataframe\">\n",
              "  <thead>\n",
              "    <tr style=\"text-align: right;\">\n",
              "      <th></th>\n",
              "      <th>JobTitle</th>\n",
              "      <th>Company</th>\n",
              "      <th>Location</th>\n",
              "      <th>Salary</th>\n",
              "      <th>PostDate</th>\n",
              "    </tr>\n",
              "  </thead>\n",
              "  <tbody>\n",
              "    <tr>\n",
              "      <th>count</th>\n",
              "      <td>1970</td>\n",
              "      <td>1970</td>\n",
              "      <td>1970</td>\n",
              "      <td>469</td>\n",
              "      <td>1970</td>\n",
              "    </tr>\n",
              "    <tr>\n",
              "      <th>unique</th>\n",
              "      <td>1002</td>\n",
              "      <td>911</td>\n",
              "      <td>616</td>\n",
              "      <td>219</td>\n",
              "      <td>47</td>\n",
              "    </tr>\n",
              "    <tr>\n",
              "      <th>top</th>\n",
              "      <td>Data Scientist</td>\n",
              "      <td>Amazon.com Services LLC</td>\n",
              "      <td>Austin, TX</td>\n",
              "      <td>Salary</td>\n",
              "      <td>Posted30+ days ago</td>\n",
              "    </tr>\n",
              "    <tr>\n",
              "      <th>freq</th>\n",
              "      <td>90</td>\n",
              "      <td>49</td>\n",
              "      <td>155</td>\n",
              "      <td>14</td>\n",
              "      <td>1283</td>\n",
              "    </tr>\n",
              "  </tbody>\n",
              "</table>\n",
              "</div>\n",
              "      <button class=\"colab-df-convert\" onclick=\"convertToInteractive('df-3f35a0e2-e4fa-4450-b059-035705a0af6b')\"\n",
              "              title=\"Convert this dataframe to an interactive table.\"\n",
              "              style=\"display:none;\">\n",
              "        \n",
              "  <svg xmlns=\"http://www.w3.org/2000/svg\" height=\"24px\"viewBox=\"0 0 24 24\"\n",
              "       width=\"24px\">\n",
              "    <path d=\"M0 0h24v24H0V0z\" fill=\"none\"/>\n",
              "    <path d=\"M18.56 5.44l.94 2.06.94-2.06 2.06-.94-2.06-.94-.94-2.06-.94 2.06-2.06.94zm-11 1L8.5 8.5l.94-2.06 2.06-.94-2.06-.94L8.5 2.5l-.94 2.06-2.06.94zm10 10l.94 2.06.94-2.06 2.06-.94-2.06-.94-.94-2.06-.94 2.06-2.06.94z\"/><path d=\"M17.41 7.96l-1.37-1.37c-.4-.4-.92-.59-1.43-.59-.52 0-1.04.2-1.43.59L10.3 9.45l-7.72 7.72c-.78.78-.78 2.05 0 2.83L4 21.41c.39.39.9.59 1.41.59.51 0 1.02-.2 1.41-.59l7.78-7.78 2.81-2.81c.8-.78.8-2.07 0-2.86zM5.41 20L4 18.59l7.72-7.72 1.47 1.35L5.41 20z\"/>\n",
              "  </svg>\n",
              "      </button>\n",
              "      \n",
              "  <style>\n",
              "    .colab-df-container {\n",
              "      display:flex;\n",
              "      flex-wrap:wrap;\n",
              "      gap: 12px;\n",
              "    }\n",
              "\n",
              "    .colab-df-convert {\n",
              "      background-color: #E8F0FE;\n",
              "      border: none;\n",
              "      border-radius: 50%;\n",
              "      cursor: pointer;\n",
              "      display: none;\n",
              "      fill: #1967D2;\n",
              "      height: 32px;\n",
              "      padding: 0 0 0 0;\n",
              "      width: 32px;\n",
              "    }\n",
              "\n",
              "    .colab-df-convert:hover {\n",
              "      background-color: #E2EBFA;\n",
              "      box-shadow: 0px 1px 2px rgba(60, 64, 67, 0.3), 0px 1px 3px 1px rgba(60, 64, 67, 0.15);\n",
              "      fill: #174EA6;\n",
              "    }\n",
              "\n",
              "    [theme=dark] .colab-df-convert {\n",
              "      background-color: #3B4455;\n",
              "      fill: #D2E3FC;\n",
              "    }\n",
              "\n",
              "    [theme=dark] .colab-df-convert:hover {\n",
              "      background-color: #434B5C;\n",
              "      box-shadow: 0px 1px 3px 1px rgba(0, 0, 0, 0.15);\n",
              "      filter: drop-shadow(0px 1px 2px rgba(0, 0, 0, 0.3));\n",
              "      fill: #FFFFFF;\n",
              "    }\n",
              "  </style>\n",
              "\n",
              "      <script>\n",
              "        const buttonEl =\n",
              "          document.querySelector('#df-3f35a0e2-e4fa-4450-b059-035705a0af6b button.colab-df-convert');\n",
              "        buttonEl.style.display =\n",
              "          google.colab.kernel.accessAllowed ? 'block' : 'none';\n",
              "\n",
              "        async function convertToInteractive(key) {\n",
              "          const element = document.querySelector('#df-3f35a0e2-e4fa-4450-b059-035705a0af6b');\n",
              "          const dataTable =\n",
              "            await google.colab.kernel.invokeFunction('convertToInteractive',\n",
              "                                                     [key], {});\n",
              "          if (!dataTable) return;\n",
              "\n",
              "          const docLinkHtml = 'Like what you see? Visit the ' +\n",
              "            '<a target=\"_blank\" href=https://colab.research.google.com/notebooks/data_table.ipynb>data table notebook</a>'\n",
              "            + ' to learn more about interactive tables.';\n",
              "          element.innerHTML = '';\n",
              "          dataTable['output_type'] = 'display_data';\n",
              "          await google.colab.output.renderOutput(dataTable, element);\n",
              "          const docLink = document.createElement('div');\n",
              "          docLink.innerHTML = docLinkHtml;\n",
              "          element.appendChild(docLink);\n",
              "        }\n",
              "      </script>\n",
              "    </div>\n",
              "  </div>\n",
              "  "
            ]
          },
          "metadata": {},
          "execution_count": 415
        }
      ]
    },
    {
      "cell_type": "code",
      "source": [
        "result_group = results.groupby('Company', as_index = False)\n"
      ],
      "metadata": {
        "id": "gjrVhJFHSLvd"
      },
      "execution_count": null,
      "outputs": []
    },
    {
      "cell_type": "code",
      "source": [
        "result_group.head()"
      ],
      "metadata": {
        "id": "9QinypLbZPgl",
        "colab": {
          "base_uri": "https://localhost:8080/",
          "height": 467
        },
        "outputId": "764d14d0-788f-4493-884e-8d76c4eb6e84"
      },
      "execution_count": null,
      "outputs": [
        {
          "output_type": "execute_result",
          "data": {
            "text/plain": [
              "                                               JobTitle  \\\n",
              "0     Quantitative Analytics Professional - Data Sci...   \n",
              "1                                        Data Scientist   \n",
              "2                                        Data Scientist   \n",
              "4                   Data Scientist (Banking/Financials)   \n",
              "6                                      Data Scientist I   \n",
              "...                                                 ...   \n",
              "2463                         Senior Front End Developer   \n",
              "2471                          Senior Front End Engineer   \n",
              "2472                               Full Stack Developer   \n",
              "2474                           Embedded System Engineer   \n",
              "2475                                      Web Developer   \n",
              "\n",
              "                                      Company  \\\n",
              "0                                 Freddie Mac   \n",
              "1                             Thomson Reuters   \n",
              "2                               Strider, Inc.   \n",
              "4                                Pitney Bowes   \n",
              "6     American Express Global Business Travel   \n",
              "...                                       ...   \n",
              "2463                     CENTRIC SOFTWARE INC   \n",
              "2471                         Ihealth Labs Inc   \n",
              "2472                             Fiserv, Inc.   \n",
              "2474                        amaze systems Inc   \n",
              "2475                                     Aeva   \n",
              "\n",
              "                                    Location                          Salary  \\\n",
              "0          Hybrid remote in McLean, VA 22102                             NaN   \n",
              "1                           McLean, VA 22102                             NaN   \n",
              "2                Remote in Tysons Corner, VA                             NaN   \n",
              "4                   Remote in Washington, DC                             NaN   \n",
              "6                             Washington, DC                             NaN   \n",
              "...                                      ...                             ...   \n",
              "2463                  Remote in Campbell, CA  Estimated $118K - $150K a year   \n",
              "2471  San Jose, CA 95131 (North Valley area)                             NaN   \n",
              "2472  Sunnyvale, CA 94085 (West Murphy area)                             NaN   \n",
              "2474                 Mountain View, CA 94043  Estimated $118K - $150K a year   \n",
              "2475                       Mountain View, CA  Estimated $70.2K - $89K a year   \n",
              "\n",
              "                        PostDate  \n",
              "0             Posted30+ days ago  \n",
              "1             Posted30+ days ago  \n",
              "2     EmployerActive 17 days ago  \n",
              "4             Posted30+ days ago  \n",
              "6              Posted20 days ago  \n",
              "...                          ...  \n",
              "2463          Posted30+ days ago  \n",
              "2471           Posted15 days ago  \n",
              "2472          Posted30+ days ago  \n",
              "2474  EmployerActive 13 days ago  \n",
              "2475          Posted30+ days ago  \n",
              "\n",
              "[1662 rows x 5 columns]"
            ],
            "text/html": [
              "\n",
              "  <div id=\"df-4f36dcfe-8355-48cd-89b7-bbbc824d4ed8\">\n",
              "    <div class=\"colab-df-container\">\n",
              "      <div>\n",
              "<style scoped>\n",
              "    .dataframe tbody tr th:only-of-type {\n",
              "        vertical-align: middle;\n",
              "    }\n",
              "\n",
              "    .dataframe tbody tr th {\n",
              "        vertical-align: top;\n",
              "    }\n",
              "\n",
              "    .dataframe thead th {\n",
              "        text-align: right;\n",
              "    }\n",
              "</style>\n",
              "<table border=\"1\" class=\"dataframe\">\n",
              "  <thead>\n",
              "    <tr style=\"text-align: right;\">\n",
              "      <th></th>\n",
              "      <th>JobTitle</th>\n",
              "      <th>Company</th>\n",
              "      <th>Location</th>\n",
              "      <th>Salary</th>\n",
              "      <th>PostDate</th>\n",
              "    </tr>\n",
              "  </thead>\n",
              "  <tbody>\n",
              "    <tr>\n",
              "      <th>0</th>\n",
              "      <td>Quantitative Analytics Professional - Data Sci...</td>\n",
              "      <td>Freddie Mac</td>\n",
              "      <td>Hybrid remote in McLean, VA 22102</td>\n",
              "      <td>NaN</td>\n",
              "      <td>Posted30+ days ago</td>\n",
              "    </tr>\n",
              "    <tr>\n",
              "      <th>1</th>\n",
              "      <td>Data Scientist</td>\n",
              "      <td>Thomson Reuters</td>\n",
              "      <td>McLean, VA 22102</td>\n",
              "      <td>NaN</td>\n",
              "      <td>Posted30+ days ago</td>\n",
              "    </tr>\n",
              "    <tr>\n",
              "      <th>2</th>\n",
              "      <td>Data Scientist</td>\n",
              "      <td>Strider, Inc.</td>\n",
              "      <td>Remote in Tysons Corner, VA</td>\n",
              "      <td>NaN</td>\n",
              "      <td>EmployerActive 17 days ago</td>\n",
              "    </tr>\n",
              "    <tr>\n",
              "      <th>4</th>\n",
              "      <td>Data Scientist (Banking/Financials)</td>\n",
              "      <td>Pitney Bowes</td>\n",
              "      <td>Remote in Washington, DC</td>\n",
              "      <td>NaN</td>\n",
              "      <td>Posted30+ days ago</td>\n",
              "    </tr>\n",
              "    <tr>\n",
              "      <th>6</th>\n",
              "      <td>Data Scientist I</td>\n",
              "      <td>American Express Global Business Travel</td>\n",
              "      <td>Washington, DC</td>\n",
              "      <td>NaN</td>\n",
              "      <td>Posted20 days ago</td>\n",
              "    </tr>\n",
              "    <tr>\n",
              "      <th>...</th>\n",
              "      <td>...</td>\n",
              "      <td>...</td>\n",
              "      <td>...</td>\n",
              "      <td>...</td>\n",
              "      <td>...</td>\n",
              "    </tr>\n",
              "    <tr>\n",
              "      <th>2463</th>\n",
              "      <td>Senior Front End Developer</td>\n",
              "      <td>CENTRIC SOFTWARE INC</td>\n",
              "      <td>Remote in Campbell, CA</td>\n",
              "      <td>Estimated $118K - $150K a year</td>\n",
              "      <td>Posted30+ days ago</td>\n",
              "    </tr>\n",
              "    <tr>\n",
              "      <th>2471</th>\n",
              "      <td>Senior Front End Engineer</td>\n",
              "      <td>Ihealth Labs Inc</td>\n",
              "      <td>San Jose, CA 95131 (North Valley area)</td>\n",
              "      <td>NaN</td>\n",
              "      <td>Posted15 days ago</td>\n",
              "    </tr>\n",
              "    <tr>\n",
              "      <th>2472</th>\n",
              "      <td>Full Stack Developer</td>\n",
              "      <td>Fiserv, Inc.</td>\n",
              "      <td>Sunnyvale, CA 94085 (West Murphy area)</td>\n",
              "      <td>NaN</td>\n",
              "      <td>Posted30+ days ago</td>\n",
              "    </tr>\n",
              "    <tr>\n",
              "      <th>2474</th>\n",
              "      <td>Embedded System Engineer</td>\n",
              "      <td>amaze systems Inc</td>\n",
              "      <td>Mountain View, CA 94043</td>\n",
              "      <td>Estimated $118K - $150K a year</td>\n",
              "      <td>EmployerActive 13 days ago</td>\n",
              "    </tr>\n",
              "    <tr>\n",
              "      <th>2475</th>\n",
              "      <td>Web Developer</td>\n",
              "      <td>Aeva</td>\n",
              "      <td>Mountain View, CA</td>\n",
              "      <td>Estimated $70.2K - $89K a year</td>\n",
              "      <td>Posted30+ days ago</td>\n",
              "    </tr>\n",
              "  </tbody>\n",
              "</table>\n",
              "<p>1662 rows × 5 columns</p>\n",
              "</div>\n",
              "      <button class=\"colab-df-convert\" onclick=\"convertToInteractive('df-4f36dcfe-8355-48cd-89b7-bbbc824d4ed8')\"\n",
              "              title=\"Convert this dataframe to an interactive table.\"\n",
              "              style=\"display:none;\">\n",
              "        \n",
              "  <svg xmlns=\"http://www.w3.org/2000/svg\" height=\"24px\"viewBox=\"0 0 24 24\"\n",
              "       width=\"24px\">\n",
              "    <path d=\"M0 0h24v24H0V0z\" fill=\"none\"/>\n",
              "    <path d=\"M18.56 5.44l.94 2.06.94-2.06 2.06-.94-2.06-.94-.94-2.06-.94 2.06-2.06.94zm-11 1L8.5 8.5l.94-2.06 2.06-.94-2.06-.94L8.5 2.5l-.94 2.06-2.06.94zm10 10l.94 2.06.94-2.06 2.06-.94-2.06-.94-.94-2.06-.94 2.06-2.06.94z\"/><path d=\"M17.41 7.96l-1.37-1.37c-.4-.4-.92-.59-1.43-.59-.52 0-1.04.2-1.43.59L10.3 9.45l-7.72 7.72c-.78.78-.78 2.05 0 2.83L4 21.41c.39.39.9.59 1.41.59.51 0 1.02-.2 1.41-.59l7.78-7.78 2.81-2.81c.8-.78.8-2.07 0-2.86zM5.41 20L4 18.59l7.72-7.72 1.47 1.35L5.41 20z\"/>\n",
              "  </svg>\n",
              "      </button>\n",
              "      \n",
              "  <style>\n",
              "    .colab-df-container {\n",
              "      display:flex;\n",
              "      flex-wrap:wrap;\n",
              "      gap: 12px;\n",
              "    }\n",
              "\n",
              "    .colab-df-convert {\n",
              "      background-color: #E8F0FE;\n",
              "      border: none;\n",
              "      border-radius: 50%;\n",
              "      cursor: pointer;\n",
              "      display: none;\n",
              "      fill: #1967D2;\n",
              "      height: 32px;\n",
              "      padding: 0 0 0 0;\n",
              "      width: 32px;\n",
              "    }\n",
              "\n",
              "    .colab-df-convert:hover {\n",
              "      background-color: #E2EBFA;\n",
              "      box-shadow: 0px 1px 2px rgba(60, 64, 67, 0.3), 0px 1px 3px 1px rgba(60, 64, 67, 0.15);\n",
              "      fill: #174EA6;\n",
              "    }\n",
              "\n",
              "    [theme=dark] .colab-df-convert {\n",
              "      background-color: #3B4455;\n",
              "      fill: #D2E3FC;\n",
              "    }\n",
              "\n",
              "    [theme=dark] .colab-df-convert:hover {\n",
              "      background-color: #434B5C;\n",
              "      box-shadow: 0px 1px 3px 1px rgba(0, 0, 0, 0.15);\n",
              "      filter: drop-shadow(0px 1px 2px rgba(0, 0, 0, 0.3));\n",
              "      fill: #FFFFFF;\n",
              "    }\n",
              "  </style>\n",
              "\n",
              "      <script>\n",
              "        const buttonEl =\n",
              "          document.querySelector('#df-4f36dcfe-8355-48cd-89b7-bbbc824d4ed8 button.colab-df-convert');\n",
              "        buttonEl.style.display =\n",
              "          google.colab.kernel.accessAllowed ? 'block' : 'none';\n",
              "\n",
              "        async function convertToInteractive(key) {\n",
              "          const element = document.querySelector('#df-4f36dcfe-8355-48cd-89b7-bbbc824d4ed8');\n",
              "          const dataTable =\n",
              "            await google.colab.kernel.invokeFunction('convertToInteractive',\n",
              "                                                     [key], {});\n",
              "          if (!dataTable) return;\n",
              "\n",
              "          const docLinkHtml = 'Like what you see? Visit the ' +\n",
              "            '<a target=\"_blank\" href=https://colab.research.google.com/notebooks/data_table.ipynb>data table notebook</a>'\n",
              "            + ' to learn more about interactive tables.';\n",
              "          element.innerHTML = '';\n",
              "          dataTable['output_type'] = 'display_data';\n",
              "          await google.colab.output.renderOutput(dataTable, element);\n",
              "          const docLink = document.createElement('div');\n",
              "          docLink.innerHTML = docLinkHtml;\n",
              "          element.appendChild(docLink);\n",
              "        }\n",
              "      </script>\n",
              "    </div>\n",
              "  </div>\n",
              "  "
            ]
          },
          "metadata": {},
          "execution_count": 417
        }
      ]
    },
    {
      "cell_type": "code",
      "source": [],
      "metadata": {
        "id": "Acjf7HIIm-Dc"
      },
      "execution_count": null,
      "outputs": []
    }
  ]
}